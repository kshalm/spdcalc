{
 "cells": [
  {
   "cell_type": "markdown",
   "metadata": {},
   "source": [
    "# Basic JSI"
   ]
  },
  {
   "cell_type": "markdown",
   "metadata": {},
   "source": [
    "import spectra\n",
    "import plotly.graph_objects as go\n",
    "from pint import UnitRegistry\n",
    "from spdcalc import *"
   ]
  },
  {
   "cell_type": "code",
   "execution_count": 2,
   "metadata": {},
   "outputs": [],
   "source": [
    "# Helper to convert a 1d data list to a 2d list\n",
    "def to_matrix(l, n):\n",
    "    return [l[i:i+n] for i in range(0, len(l), n)]"
   ]
  },
  {
   "cell_type": "code",
   "execution_count": 3,
   "metadata": {},
   "outputs": [],
   "source": [
    "# Setup a color scale in L.A.B. color space\n",
    "# that we can pass to plotly\n",
    "colors = spectra.scale([ 'white', '#2c3e50' ]).colorspace('lab')\n",
    "colorscale = [[z/1000, colors(z/1000).hexcode] for z in range(0, 1001)]"
   ]
  },
  {
   "cell_type": "code",
   "execution_count": 1,
   "metadata": {},
   "outputs": [
    {
     "ename": "NameError",
     "evalue": "name 'SPDCSetup' is not defined",
     "output_type": "error",
     "traceback": [
      "\u001b[0;31m---------------------------------------------------------------------------\u001b[0m",
      "\u001b[0;31mNameError\u001b[0m                                 Traceback (most recent call last)",
      "\u001b[0;32m<ipython-input-1-d163e669d901>\u001b[0m in \u001b[0;36m<module>\u001b[0;34m\u001b[0m\n\u001b[1;32m      2\u001b[0m \u001b[0;31m# start with setting some properties\u001b[0m\u001b[0;34m\u001b[0m\u001b[0;34m\u001b[0m\u001b[0;34m\u001b[0m\u001b[0m\n\u001b[1;32m      3\u001b[0m \u001b[0;31m# but otherwise using defaults\u001b[0m\u001b[0;34m\u001b[0m\u001b[0;34m\u001b[0m\u001b[0;34m\u001b[0m\u001b[0m\n\u001b[0;32m----> 4\u001b[0;31m setup = SPDCSetup.from_dict({\n\u001b[0m\u001b[1;32m      5\u001b[0m     \u001b[0;34m\"crystal\"\u001b[0m\u001b[0;34m:\u001b[0m \u001b[0;34m\"KTP\"\u001b[0m\u001b[0;34m,\u001b[0m\u001b[0;34m\u001b[0m\u001b[0;34m\u001b[0m\u001b[0m\n\u001b[1;32m      6\u001b[0m     \u001b[0;34m\"signal_wavelength\"\u001b[0m\u001b[0;34m:\u001b[0m \u001b[0mQ_\u001b[0m\u001b[0;34m(\u001b[0m\u001b[0;36m1550\u001b[0m\u001b[0;34m,\u001b[0m \u001b[0;34m'nm'\u001b[0m\u001b[0;34m)\u001b[0m\u001b[0;34m.\u001b[0m\u001b[0mto\u001b[0m\u001b[0;34m(\u001b[0m\u001b[0;34m'm'\u001b[0m\u001b[0;34m)\u001b[0m\u001b[0;34m.\u001b[0m\u001b[0mmagnitude\u001b[0m\u001b[0;34m\u001b[0m\u001b[0;34m\u001b[0m\u001b[0m\n",
      "\u001b[0;31mNameError\u001b[0m: name 'SPDCSetup' is not defined"
     ]
    }
   ],
   "source": [
    "# The meat of the computation.\n",
    "# start with setting some properties\n",
    "# but otherwise using defaults\n",
    "setup = SPDCSetup.from_dict({\n",
    "    \"crystal\": \"KTP\",\n",
    "    \"signal_wavelength\": Q_(1550, 'nm').to('m').magnitude\n",
    "}, with_defaults=True)\n",
    "# use periodic poling... the optimum\n",
    "setup.assign_optimum_periodic_poling()"
   ]
  },
  {
   "cell_type": "code",
   "execution_count": null,
   "metadata": {},
   "outputs": [],
   "source": []
  }
 ],
 "metadata": {
  "kernelspec": {
   "display_name": "Python 3",
   "language": "python",
   "name": "python3"
  },
  "language_info": {
   "codemirror_mode": {
    "name": "ipython",
    "version": 3
   },
   "file_extension": ".py",
   "mimetype": "text/x-python",
   "name": "python",
   "nbconvert_exporter": "python",
   "pygments_lexer": "ipython3",
   "version": "3.7.5"
  }
 },
 "nbformat": 4,
 "nbformat_minor": 4
}
