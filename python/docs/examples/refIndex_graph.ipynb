{
 "cells": [
  {
   "cell_type": "code",
   "execution_count": null,
   "id": "fe439c3c",
   "metadata": {},
   "outputs": [],
   "source": [
    "import matplotlib.pyplot as plt\n",
    "import math\n",
    "import numpy as np"
   ]
  },
  {
   "cell_type": "markdown",
   "id": "3a6b1d62",
   "metadata": {},
   "source": [
    "This code creates a graph of refractive index with respect to optical angle for a KDP crystal, with a pump photon wavelength of 775 nm and signal and idler photons of wavelength 1550 nm. "
   ]
  },
  {
   "cell_type": "code",
   "execution_count": 2,
   "id": "af7e8b38",
   "metadata": {},
   "outputs": [],
   "source": [
    "# Setting up wavelength values\n",
    "lambda_p = 775.0\n",
    "lambda_s = 1550.0\n",
    "lambda_i = 1550.0\n",
    "phi = 0\n",
    "\n",
    "# Setting Sellmeier coefficients for the ordinary and extraordinary axis of the KDP crystal\n",
    "KDP_o = [2.259276,13.005522,400,0.01008956,0.012942625]\n",
    "KDP_e = [2.132668,3.2279924,400,0.008637494,0.012281043]\n",
    "\n",
    "# Setting up the array of values\n",
    "theta_o = np.linspace(0,180,num=181)"
   ]
  },
  {
   "cell_type": "markdown",
   "id": "05352c58",
   "metadata": {},
   "source": [
    "Define a function for refractive index along a fixed axis of a material, with quantities derived from Sellmeier coefficients as parameters. "
   ]
  },
  {
   "cell_type": "code",
   "execution_count": 3,
   "id": "00dc8769",
   "metadata": {},
   "outputs": [],
   "source": [
    "# Assigning values to refractive index along each axis\n",
    "def axisIndex(wavelength, sellmeier):\n",
    "    wavelength = wavelength/1000\n",
    "    n_1 = sellmeier[0]\n",
    "    n_2 = sellmeier[1]*(wavelength**2)/((wavelength**2)-sellmeier[2])\n",
    "    n_3 = sellmeier[3]/((wavelength**2)-sellmeier[4])\n",
    "    return np.sqrt(n_1+n_2+n_3)"
   ]
  },
  {
   "cell_type": "markdown",
   "id": "9222686e",
   "metadata": {},
   "source": [
    "Below, we construct the refIndex function to calculate the fast and slow refractive indices of refraction for a photon along a given direction of travel. Here, in accordance with the KDP crystal, we assume two axes with ordinary refractive index and one with extraordinary, so $n_x=n_y=n_o$ and $n_z=n_e$. Then for a photon with direction vector $\\hat{s}$, we find the refractive index using the equation\n",
    "\n",
    "$$ \\frac{s_x^2}{n^{-2}(\\hat{s})-n_x^{-2}} + \\frac{s_y^2}{n^{-2}(\\hat{s})-n_y^{-2}} + \\frac{s_z^2}{n^{-2}(\\hat{s})-n_z^{-2}}. $$\n",
    "\n",
    "We can rearrange this to obtain a quadratic equation in terms of $x=1/n^2$ of the form \n",
    "\n",
    "$$ x^2 - Bx + C = 0 $$\n",
    "\n",
    "where \n",
    "\n",
    "$$ B = s_x^2 \\left(\\frac{1}{n_y^2} + \\frac{1}{n_z^2}\\right)+ s_y^2 \\left(\\frac{1}{n_x^2}+\\frac{1}{n_z^2}\\right) + s_z^2 \\left(\\frac{1}{n_x^2}+\\frac{1}{n_y^2}\\right) $$\n",
    "\n",
    "and \n",
    "\n",
    "$$ C = \\frac{s_x^2}{n_y^2n_z^2} + \\frac{s_y^2}{n_x^2n_z^2} + \\frac{s_z^2}{n_x^2n_y^2}. $$"
   ]
  },
  {
   "cell_type": "code",
   "execution_count": 4,
   "id": "e78ba446",
   "metadata": {},
   "outputs": [],
   "source": [
    "def refIndex(theta, phi, wavelength, fast):\n",
    "    theta = np.radians(theta)\n",
    "    s_x=np.sin(theta)*np.cos(phi)\n",
    "    s_y=np.sin(theta)*np.sin(phi)\n",
    "    s_z=np.cos(theta)\n",
    "    n_x = n_y = axisIndex(wavelength,KDP_o)\n",
    "    n_z = axisIndex(wavelength,KDP_e)\n",
    "        \n",
    "    b = (s_x**2)*((n_y**-2)+(n_z**-2))+(s_y**2)*((n_x**-2)+(n_z**-2))+(s_z**2)*((n_x**-2)+(n_y**-2))\n",
    "    c = (s_x**2)*(n_y**-2)*(n_z**-2)+(s_y**2)*(n_x**-2)*(n_z**-2)+(s_z**2)*(n_x**-2)*(n_y**-2)\n",
    "    if fast == True:\n",
    "        x = (b+np.sqrt((b**2)-4*c))/2\n",
    "    else:\n",
    "        x = (b-np.sqrt((b**2)-4*c))/2\n",
    "    return np.sqrt(1/x)"
   ]
  },
  {
   "cell_type": "markdown",
   "id": "ac68db71",
   "metadata": {},
   "source": [
    "Construct arrays of refractive indices for signal, idler, and pump photons, for fast and slow polarizations."
   ]
  },
  {
   "cell_type": "code",
   "execution_count": 5,
   "id": "03823ced",
   "metadata": {},
   "outputs": [],
   "source": [
    "n_pf = refIndex(theta_o,phi,lambda_p, True)\n",
    "n_sf = refIndex(theta_o,phi,lambda_s, True)\n",
    "n_if = refIndex(theta_o,phi,lambda_i, True)\n",
    "n_ps = refIndex(theta_o,phi,lambda_p, False)\n",
    "n_ss = refIndex(theta_o,phi,lambda_s, False)\n",
    "n_is = refIndex(theta_o,phi,lambda_i, False)"
   ]
  },
  {
   "cell_type": "markdown",
   "id": "57761dd9",
   "metadata": {},
   "source": [
    "Graph fast polarizations as dotted lines and slow as solid ones. The pump photon is represented by red lines and the signal and idler by blue and green respectively. "
   ]
  },
  {
   "cell_type": "code",
   "execution_count": 6,
   "id": "d80ec3c7",
   "metadata": {},
   "outputs": [
    {
     "data": {
      "image/png": "[encoded data removed]",
      "text/plain": [
       "<Figure size 432x288 with 1 Axes>"
      ]
     },
     "metadata": {
      "needs_background": "light"
     },
     "output_type": "display_data"
    }
   ],
   "source": [
    "plt.plot(theta_o,n_pf,'r--',n_sf,'b--',n_if,'g--')\n",
    "plt.plot(theta_o,n_ps,'r',n_ss,'b',n_is,'g')\n",
    "plt.xlabel('optical angle')\n",
    "plt.ylabel('refractive index')\n",
    "plt.show()"
   ]
  }
 ],
 "metadata": {
  "kernelspec": {
   "display_name": "Python 3",
   "language": "python",
   "name": "python3"
  },
  "language_info": {
   "codemirror_mode": {
    "name": "ipython",
    "version": 3
   },
   "file_extension": ".py",
   "mimetype": "text/x-python",
   "name": "python",
   "nbconvert_exporter": "python",
   "pygments_lexer": "ipython3",
   "version": "3.8.8"
  }
 },
 "nbformat": 4,
 "nbformat_minor": 5
}
