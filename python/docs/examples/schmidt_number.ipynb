{
 "cells": [
  {
   "cell_type": "code",
   "execution_count": 1,
   "id": "2e1c26c2",
   "metadata": {},
   "outputs": [],
   "source": [
    "import spdcalc as spdc\n",
    "import numpy as np"
   ]
  },
  {
   "cell_type": "markdown",
   "id": "74f22a9f",
   "metadata": {},
   "source": [
    "Set up the crystal with desired properties."
   ]
  },
  {
   "cell_type": "code",
   "execution_count": 2,
   "id": "c09d66ad",
   "metadata": {},
   "outputs": [],
   "source": [
    "setup = spdc.SPDCSetup.from_dict({\n",
    "    \"crystal\": \"KDP_1\",\n",
    "    \"signal_wavelength\": 1550e-9,\n",
    "    \"crystal_theta\": np.radians(51.765), \"pm_type\": \"Type1_e_oo\",\n",
    "    \"periodic_poling_enabled\": False, \"pump_wavelength\": 775e-9,\n",
    "    \"crystal_length\": 2000e-6, \"pump_bandwidth\": 5.35e-9\n",
    "}, with_defaults=True)"
   ]
  },
  {
   "cell_type": "markdown",
   "id": "6094fcbf",
   "metadata": {},
   "source": [
    "Set the dimension and then use the spdcalc library to get the exact range of signal and ilder wavelengths that will be used so that results can be directly compared to those of spdcalc.org. "
   ]
  },
  {
   "cell_type": "code",
   "execution_count": 3,
   "id": "d3170405",
   "metadata": {},
   "outputs": [
    {
     "name": "stdout",
     "output_type": "stream",
     "text": [
      "Minimum signal wavelength: 1467.1 nm. Maximum signal wavelength: 1632.9 nm\n",
      "Minimum signal wavelength: 1475.11 nm. Maximum signal wavelength: 1642.84 nm\n"
     ]
    }
   ],
   "source": [
    "dim = 200\n",
    "ranges = spdc.plotting.calc_plot_config_for_jsi(setup, dim)\n",
    "x=ranges.get_x_values()\n",
    "y=ranges.get_y_values()\n",
    "\n",
    "xmin = round(x[0]*1e9, 2)\n",
    "xmax = round(x[len(x)-1]*1e9, 2)\n",
    "ymin = round(y[0]*1e9, 2)\n",
    "ymax = round(y[len(y)-1]*1e9, 2)\n",
    "\n",
    "print('Minimum signal wavelength: ' + str(xmin) + \n",
    "       ' nm. Maximum signal wavelength: ' + str(xmax) + ' nm')\n",
    "print('Minimum signal wavelength: ' + str(ymin) + \n",
    "      ' nm. Maximum signal wavelength: ' + str(ymax) + ' nm')"
   ]
  },
  {
   "cell_type": "markdown",
   "id": "fe25c277",
   "metadata": {},
   "source": [
    "Use the built in function to calculate a two dimensional array of joint spectral intensity (JSI) values, and take the element-by-element square root of this array to get the joint spectral amplitude (JSA). "
   ]
  },
  {
   "cell_type": "code",
   "execution_count": 4,
   "id": "2164a53d",
   "metadata": {},
   "outputs": [],
   "source": [
    "jsi_data = spdc.plotting.plot_jsi(setup, ranges)\n",
    "JSI = np.reshape(jsi_data, (dim, dim))\n",
    "np.savetxt('JSI_data', JSI)\n",
    "\n",
    "JSA = np.sqrt(JSI)"
   ]
  },
  {
   "cell_type": "markdown",
   "id": "d75b8ae5",
   "metadata": {},
   "source": [
    "Next, use the numpy linear algebra library to calculate the singular value decomposition of the JSA matrix. This function returns a three-element tuple, the second of which is a one-dimensional array of Schmidt coefficients, $\\lambda_i$. To ensure proper normalization, we impose the condition that\n",
    "\n",
    "$$ \\sum\\limits_{i}^N \\lambda_i^2 = 1. $$"
   ]
  },
  {
   "cell_type": "code",
   "execution_count": 5,
   "id": "8fc5343e",
   "metadata": {},
   "outputs": [],
   "source": [
    "a = np.linalg.svd(JSA)[1]\n",
    "a_norm = a/np.linalg.norm(a)"
   ]
  },
  {
   "cell_type": "markdown",
   "id": "f408d629",
   "metadata": {},
   "source": [
    "Then we can calculate the single-photon purity, equal to \n",
    "\n",
    "$$ P = \\sum\\limits_{i}^N \\lambda_i^4 $$\n",
    "\n",
    "which can then be used to calculate the Schmidt number using \n",
    "\n",
    "$$ K = \\frac{1}{P}. $$"
   ]
  },
  {
   "cell_type": "code",
   "execution_count": 6,
   "id": "39472aa4",
   "metadata": {},
   "outputs": [
    {
     "name": "stdout",
     "output_type": "stream",
     "text": [
      "6.738711627285404\n"
     ]
    }
   ],
   "source": [
    "purity = np.sum(a_norm**4)\n",
    "\n",
    "schmidt_num = 1/purity\n",
    "print(schmidt_num)"
   ]
  }
 ],
 "metadata": {
  "kernelspec": {
   "display_name": "Python 3",
   "language": "python",
   "name": "python3"
  },
  "language_info": {
   "codemirror_mode": {
    "name": "ipython",
    "version": 3
   },
   "file_extension": ".py",
   "mimetype": "text/x-python",
   "name": "python",
   "nbconvert_exporter": "python",
   "pygments_lexer": "ipython3",
   "version": "3.8.8"
  }
 },
 "nbformat": 4,
 "nbformat_minor": 5
}
