{
 "cells": [
  {
   "cell_type": "code",
   "execution_count": null,
   "id": "25eea0a0",
   "metadata": {},
   "outputs": [],
   "source": [
    "import matplotlib.pyplot as plt\n",
    "import math\n",
    "import numpy as np"
   ]
  },
  {
   "cell_type": "markdown",
   "id": "02c77944",
   "metadata": {},
   "source": [
    "Begin by setting values. All lengths are in nanometers, and angles are in degrees. "
   ]
  },
  {
   "cell_type": "code",
   "execution_count": null,
   "id": "2b8640ce",
   "metadata": {},
   "outputs": [],
   "source": [
    "lambda_p = 775.0\n",
    "omega_p = 2*math.pi/lambda_p\n",
    "lambda_s = np.linspace(1500,1600,num=100)\n",
    "lambda_i = np.linspace(1500,1600,num=100)\n",
    "omega_s = 2*math.pi/lambda_s\n",
    "omega_i = 2*math.pi/lambda_i\n",
    "\n",
    "# Setting Sellmeier coefficients for the ordinary and extraordinary axis of the KDP crystal\n",
    "KDP_o = [2.259276,13.005522,400,0.01008956,0.012942625]\n",
    "KDP_e = [2.132668,3.2279924,400,0.008637494,0.012281043]\n",
    "\n",
    "# Defining the optic axis\n",
    "theta_c = 51.7\n",
    "phi_s = 0\n",
    "\n",
    "# Setting the length of the crystal in nanometers \n",
    "L = 10**5"
   ]
  },
  {
   "cell_type": "markdown",
   "id": "8a5728ad",
   "metadata": {},
   "source": [
    "Define a function for refractive index along a fixed axis of a material, with quantities derived from Sellmeier coefficients as parameters. "
   ]
  },
  {
   "cell_type": "code",
   "execution_count": null,
   "id": "f147cce4",
   "metadata": {},
   "outputs": [],
   "source": [
    "def axisIndex(wavelength, sellmeier):\n",
    "    wavelength = wavelength/1000\n",
    "    n_1 = sellmeier[0]\n",
    "    n_2 = sellmeier[1]*(wavelength**2)/((wavelength**2)-sellmeier[2])\n",
    "    n_3 = sellmeier[3]/((wavelength**2)-sellmeier[4])\n",
    "    return np.sqrt(n_1+n_2+n_3)  "
   ]
  },
  {
   "cell_type": "markdown",
   "id": "3c69f37d",
   "metadata": {},
   "source": [
    "Below, we construct the refIndex function to calculate the fast and slow refractive indices of refraction for a photon along a given direction of travel. Here, in accordance with the KDP crystal, we assume two axes with ordinary refractive index and one with extraordinary, so $n_x=n_y=n_o$ and $n_z=n_e$. Then for a photon with direction vector $\\hat{s}$, we find the refractive index using the equation\n",
    "\n",
    "$$ \\frac{s_x^2}{n^{-2}(\\hat{s})-n_x^{-2}} + \\frac{s_y^2}{n^{-2}(\\hat{s})-n_y^{-2}} + \\frac{s_z^2}{n^{-2}(\\hat{s})-n_z^{-2}}. $$\n",
    "\n",
    "We can rearrange this to obtain a quadratic equation in terms of $x=1/n^2$ of the form \n",
    "\n",
    "$$ x^2 - Bx + C = 0 $$\n",
    "\n",
    "where \n",
    "\n",
    "$$ B = s_x^2 \\left(\\frac{1}{n_y^2} + \\frac{1}{n_z^2}\\right)+ s_y^2 \\left(\\frac{1}{n_x^2}+\\frac{1}{n_z^2}\\right) + s_z^2 \\left(\\frac{1}{n_x^2}+\\frac{1}{n_y^2}\\right) $$\n",
    "\n",
    "and \n",
    "\n",
    "$$ C = \\frac{s_x^2}{n_y^2n_z^2} + \\frac{s_y^2}{n_x^2n_z^2} + \\frac{s_z^2}{n_x^2n_y^2}. $$"
   ]
  },
  {
   "cell_type": "code",
   "execution_count": null,
   "id": "1fab7bf0",
   "metadata": {},
   "outputs": [],
   "source": [
    "def refIndex(theta, phi, wavelength, fast):\n",
    "    theta = math.radians(theta)\n",
    "    s_x=np.sin(theta)*np.cos(phi)\n",
    "    s_y=np.sin(theta)*np.sin(phi)\n",
    "    s_z=np.cos(theta)\n",
    "    n_x = n_y = axisIndex(wavelength,KDP_o)\n",
    "    n_z = axisIndex(wavelength,KDP_e)\n",
    "        \n",
    "    b = (s_x**2)*((n_y**-2)+(n_z**-2))+(s_y**2)*((n_x**-2)+(n_z**-2))+(s_z**2)*((n_x**-2)+(n_y**-2))\n",
    "    c = (s_x**2)*(n_y**-2)*(n_z**-2)+(s_y**2)*(n_x**-2)*(n_z**-2)+(s_z**2)*(n_x**-2)*(n_y**-2)\n",
    "    if fast == True:\n",
    "        x = (b+np.sqrt((b**2)-4*c))/2\n",
    "    else:\n",
    "        x = (b-np.sqrt((b**2)-4*c))/2\n",
    "    return np.sqrt(1/x)"
   ]
  },
  {
   "cell_type": "markdown",
   "id": "fca2f2b0",
   "metadata": {},
   "source": [
    "Here, we calculate $\\Delta k$ assuming that the photons differ only in the $z$ direction and that they have the same value of $\\theta$. In this case, \n",
    "\n",
    "$$\\Delta k = n_p\\omega_p - n_s\\omega_s - n_i\\omega_i. $$\n",
    "\n",
    "The printout statement shows that the calculated $\\Delta k$ is very low for $\\lambda_s=\\lambda_i=1550$ nm at the phase matching angle of $51.7^\\circ$, which is what we expect. "
   ]
  },
  {
   "cell_type": "code",
   "execution_count": null,
   "id": "b889a398",
   "metadata": {},
   "outputs": [],
   "source": [
    "# Defining delta k assuming deviation only in the z direction\n",
    "def delta_k(omega_p,omega_s,omega_i,n_p,n_s,n_i):\n",
    "    k_z = omega_p*n_p-omega_s*n_s-omega_i*n_i\n",
    "    return k_z\n",
    "\n",
    "# Testing delta_k with sample wavelengths for which phase-matching should occur \n",
    "w_s = 2*math.pi/1550\n",
    "w_i = 2*math.pi/1550\n",
    "n_p = refIndex(theta_c,0,lambda_p,True)\n",
    "n_s = refIndex(theta_c,0,2*math.pi/w_s,False)\n",
    "n_i = refIndex(theta_c,0,2*math.pi/w_i,False)\n",
    "\n",
    "dk = delta_k(omega_p,w_s,w_i,n_p,n_s,n_i)\n",
    "print(dk)"
   ]
  },
  {
   "cell_type": "markdown",
   "id": "e03040f4",
   "metadata": {},
   "source": [
    "We calculate phase matching based on the $z$ component of the interaction Hamiltonian\n",
    "\n",
    "$$ \\int\\limits_0^L e^{i\\Delta k_z z}\\ dz. $$\n",
    "\n",
    "Evaluating this integral gives us \n",
    "\n",
    "$$ \\frac{1}{i\\Delta k_z}e^{i\\Delta k_z z}\\biggr\\rvert_0^L = -\\frac{i}{\\Delta k_z}\\left(e^{i\\Delta k_z L}-1\\right). $$\n",
    "\n",
    "Using the double angle formulas $\\cos 2x = 1 - 2\\sin^2 x$ and $\\sin 2x = 2\\sin x\\cos x$, this becomes\n",
    "\n",
    "$$ -\\frac{i}{\\Delta k_z}\\left(1-2\\sin^2\\left(\\frac{1}{2}\\Delta k_z L\\right)+2i\\sin\\left(\\frac{1}{2}\\Delta k_z L\\right)\\cos\\left(\\frac{1}{2}\\Delta k_z L\\right)-1\\right) $$.\n",
    "\n",
    "Distributing the $i$ and factoring out $\\sin(\\Delta k_z L/2)$, we obtain \n",
    "\n",
    "$$\\frac{1}{\\Delta k_z} \\left[2\\sin\\left(\\frac{1}{2}\\Delta k_z L\\right)\\left(\\cos\\left(\\frac{1}{2}\\Delta k_z L\\right)+ i\\sin\\left(\\frac{1}{2}\\Delta k_z L\\right) \\right)\\right]=\\frac{1}{\\frac{1}{2}\\Delta k_z}\\sin\\left(\\frac{1}{2}\\Delta k_z L\\right)e^{i\\frac{1}{2}\\Delta k_z L}.$$\n",
    "\n",
    "Multiplying this by complex conjugate and dividing by $L^2$, this becomes \n",
    "$$ \\frac{1}{L^2}\\left(\\frac{1}{\\frac{1}{2}\\Delta k_z}\\sin\\left(\\frac{1}{2}\\Delta k_z L\\right)\\right)^2 e^{i\\frac{1}{2}\\Delta k_z L}e^{-i\\frac{1}{2}\\Delta k_z L},$$\n",
    "which simplifies to\n",
    "$$ \\left(\\frac{\\sin\\left(\\frac{1}{2}\\Delta k_z L\\right)}{\\frac{1}{2}\\Delta k_z L}\\right)^2. $$\n",
    "\n",
    "Thus, we begin below by calculating\n",
    "$$\\frac{\\sin\\left(\\frac{1}{2}\\Delta k_z L\\right)}{\\frac{1}{2}\\Delta k_z L}$$."
   ]
  },
  {
   "cell_type": "code",
   "execution_count": null,
   "id": "1f634c74",
   "metadata": {},
   "outputs": [],
   "source": [
    "# Calculating phase matching based on delta k\n",
    "def phaseMatch(dk, L):\n",
    "    x = np.sin(dk*L)/(dk*L)\n",
    "    return x\n",
    "\n",
    "print(phaseMatch(dk, 1*10**6))"
   ]
  },
  {
   "cell_type": "markdown",
   "id": "86a0e6d2",
   "metadata": {},
   "source": [
    "Below, we construct a mesh of values of the refractive indices of the signal and idler photons at various wavelengths, and then use this to calculate an array of $\\Delta k$ and phase-matching values. "
   ]
  },
  {
   "cell_type": "code",
   "execution_count": null,
   "id": "d3277676",
   "metadata": {},
   "outputs": [],
   "source": [
    "# Plotting the sinc function\n",
    "x_mesh,y_mesh=np.meshgrid(lambda_s,lambda_i)\n",
    "n_p = refIndex(theta_c,0,lambda_p, True)\n",
    "nsMesh = refIndex(theta_c,phi_s,x_mesh, False)\n",
    "niMesh = refIndex(theta_c,phi_s,y_mesh, False)\n",
    "dk = delta_k(omega_p,2*math.pi/x_mesh,2*math.pi/y_mesh,n_p,nsMesh,niMesh)\n",
    "pm = phaseMatch(dk, L)\n",
    "plt.pcolormesh(x_mesh, y_mesh, pm**2, shading='nearest')\n",
    "plt.show()"
   ]
  }
 ],
 "metadata": {
  "kernelspec": {
   "display_name": "Python 3",
   "language": "python",
   "name": "python3"
  },
  "language_info": {
   "codemirror_mode": {
    "name": "ipython",
    "version": 3
   },
   "file_extension": ".py",
   "mimetype": "text/x-python",
   "name": "python",
   "nbconvert_exporter": "python",
   "pygments_lexer": "ipython3",
   "version": "3.8.8"
  }
 },
 "nbformat": 4,
 "nbformat_minor": 5
}
