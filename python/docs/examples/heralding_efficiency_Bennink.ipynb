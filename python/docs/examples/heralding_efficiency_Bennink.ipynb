{
 "cells": [
  {
   "cell_type": "code",
   "execution_count": 2,
   "id": "63d4612d",
   "metadata": {},
   "outputs": [],
   "source": [
    "import matplotlib.pyplot as plt\n",
    "import numpy as np\n",
    "import math"
   ]
  },
  {
   "cell_type": "markdown",
   "id": "f1d92efd",
   "metadata": {},
   "source": [
    "Here, we compare the results of calculated heralding efficiency from spdcalc and the methods used in Ryan Bennink's paper. These calculations are based on a parameter related to focusing for each of the photons,\n",
    "\n",
    "$$ \\xi_j = \\frac{L}{k_jw_j^2}, $$\n",
    "\n",
    "where $w_j$ is the waist size for a given photon. \n",
    "\n",
    "We calculate heralding efficiency by considering\n",
    "\n",
    "$$ P_{si} \\approx \\frac{64\\pi^3\\hbar c \\epsilon n_s n_i}{\\epsilon_0 n_p |n_s'-n_i'|} \\left( \\frac{\\chi^{(2)}_{\\textrm{eff}}}{\\lambda_s\\lambda_i}  \\right)^2\\frac{\\arctan(\\xi)}{A_+B_+} N_p $$\n",
    "\n",
    "and \n",
    "\n",
    "$$ P_{s} \\approx \\frac{64\\pi^3\\hbar c \\epsilon n_s n_i}{\\epsilon_0 n_p |n_s'-n_i'|} \\left( \\frac{\\chi^{(2)}_{\\textrm{eff}}}{\\lambda_s\\lambda_i}  \\right)^2\\frac{\\arctan(\\xi_s B_s/A_s)}{A_sB_s} N_p, $$\n",
    "\n",
    "so that the heralding efficiency $\\eta_i = P_{si}/P_s$ is\n",
    "\n",
    "$$ \\frac{\\arctan(\\xi)}{A_+B_+} \\frac{A_s B_s}{\\arctan(\\frac{B_s}{A_s}\\xi_s)} $$.\n",
    "\n",
    "We begin by calculating the focusing parameter and the momentum of each photon, assuming that $\\lambda_s=\\lambda_i = 1550$ nm and that $\\lambda_p = 775$ nm. "
   ]
  },
  {
   "cell_type": "code",
   "execution_count": 3,
   "id": "c1ff228c",
   "metadata": {},
   "outputs": [],
   "source": [
    "lambda_p = 775e-9\n",
    "lambda_s = 1550e-9\n",
    "lambda_i = 1550e-9\n",
    "\n",
    "theta = np.radians(90)\n",
    "\n",
    "L = 2000e-6\n",
    "\n",
    "KDP_o = [2.259276,13.005522,400,0.01008956,0.012942625]\n",
    "KDP_e = [2.132668,3.2279924,400,0.008637494,0.012281043]\n",
    "\n",
    "def axisIndex(wavelength, sellmeier):\n",
    "    wavelength = wavelength/1000\n",
    "    n_1 = sellmeier[0]\n",
    "    n_2 = sellmeier[1]*(wavelength**2)/((wavelength**2)-sellmeier[2])\n",
    "    n_3 = sellmeier[3]/((wavelength**2)-sellmeier[4])\n",
    "    return np.sqrt(n_1+n_2+n_3)\n",
    "\n",
    "def refIndex(theta, phi, wavelength, fast):\n",
    "    theta = np.radians(theta)\n",
    "    s_x=np.sin(theta)*np.cos(phi)\n",
    "    s_y=np.sin(theta)*np.sin(phi)\n",
    "    s_z=np.cos(theta)\n",
    "    n_x = n_y = axisIndex(wavelength,KDP_o)\n",
    "    n_z = axisIndex(wavelength,KDP_e)\n",
    "        \n",
    "    b = (s_x**2)*((n_y**-2)+(n_z**-2))+(s_y**2)*((n_x**-2)+(n_z**-2))+(s_z**2)*((n_x**-2)+(n_y**-2))\n",
    "    c = (s_x**2)*(n_y**-2)*(n_z**-2)+(s_y**2)*(n_x**-2)*(n_z**-2)+(s_z**2)*(n_x**-2)*(n_y**-2)\n",
    "    if fast == True:\n",
    "        x = (b+np.sqrt((b**2)-4*c))/2\n",
    "    else:\n",
    "        x = (b-np.sqrt((b**2)-4*c))/2\n",
    "    return np.sqrt(1/x)\n",
    "\n",
    "n_s = refIndex(theta, 0, lambda_s, True)\n",
    "n_i = refIndex(theta, 0, lambda_i, False)\n",
    "n_p = refIndex(theta, 0, lambda_p, True)\n",
    "\n",
    "waist_s = 100e-6\n",
    "waist_i = 100e-6\n",
    "waist_p = 100e-6\n",
    "waist = np.linspace(1e-6, 130e-6, 130)\n",
    "\n",
    "h_bar = 1.054571817e-34\n",
    "k_p = 2*math.pi*h_bar*n_p/lambda_p\n",
    "k_s = 2*math.pi*h_bar*n_s/lambda_s\n",
    "k_i = 2*math.pi*h_bar*n_i/lambda_i\n",
    "\n",
    "dk = k_p-k_s-k_i\n",
    "\n",
    "focus_s = L/(k_s*waist_s**2)\n",
    "focus_i = L/(k_i*waist_i**2)\n",
    "focus_p = L/(k_p*waist_p**2)\n",
    "focus = L/(k_s*waist**2)"
   ]
  },
  {
   "cell_type": "markdown",
   "id": "4d8e2e03",
   "metadata": {},
   "source": [
    "Next, construct a series of functions to calculate the parameters $A_+,\\ B_+,\\ A_s,\\ B_s,\\ \\xi$ so that their results can be used as parameters in the heralding calculation function. We calculate these according to the following equations.\n",
    "\n",
    "$$ A_+ = 1 + \\frac{k_s}{k_p}\\frac{\\xi_s}{\\xi_p} + \\frac{k_i}{k_p} \\frac{\\xi_i}{\\xi_p} $$\n",
    "\n",
    "$$ B_+ = \\left(1-\\frac{\\Delta k }{k_p}\\right) \\left(1 + \\frac{k_s+\\Delta k}{k_p-\\Delta k} \\frac{\\xi_p}{\\xi_s} + \\frac{k_i+\\Delta k}{k_p-\\Delta k} \\frac{\\xi_p}{\\xi_i} \\right) $$\n",
    "\n",
    "$$ \\xi = \\frac{B_+}{A_+}\\frac{\\xi_s\\xi_i}{\\xi_p} $$\n",
    "\n",
    "$$ A_s = 2\\sqrt{\\left(1 + \\frac{k_s}{k_p}\\frac{\\xi_s}{\\xi_p}\\right)\\frac{k_i}{k_p}} $$\n",
    "\n",
    "$$ B_s = 2\\left(1 - \\frac{k_s+ \\Delta k}{k_p - \\Delta k}\\right) \\sqrt{\\left(1 + \\frac{k_s+\\Delta k}{k_p - \\Delta k} \\frac{\\xi_p}{\\xi_s}\\right)\\frac{k_i+\\Delta k}{k_p - \\Delta k}} $$"
   ]
  },
  {
   "cell_type": "code",
   "execution_count": 4,
   "id": "b6baa357",
   "metadata": {},
   "outputs": [],
   "source": [
    "def A_plus(focus_s, focus_i, focus_p):\n",
    "    a = 1 + (k_s*focus_s)/(k_p*focus_p) + (k_i*focus_i)/(k_p*focus_p)\n",
    "    return a\n",
    "\n",
    "def B_plus(focus_s, focus_i, focus_p):\n",
    "    b = (1-dk/k_p)*(1+focus_p*(k_s+dk)/((k_p-dk)*focus_s)+focus_p*(k_i+dk)/((k_p-dk)*focus_i))\n",
    "    return b\n",
    "\n",
    "def focus_agg(focus_s, focus_i, focus_p):\n",
    "    z = B_plus(focus_s, focus_i, focus_p)*focus_s*focus_i/(A_plus(focus_s,focus_i,focus_p)*focus_p)\n",
    "    return z\n",
    "\n",
    "def A_s(focus_s, focus_i, focus_p):\n",
    "    a = 2 * np.sqrt( (1 + k_s*focus_s / (k_p*focus_p) ) *k_i/k_p )\n",
    "    return a\n",
    "\n",
    "def B_s(focus_s, focus_i, focus_p):\n",
    "    b = 2 * (1-dk/k_p) * np.sqrt( ( 1 + (k_s+dk)*focus_p / ( (k_p-dk)*focus_s) ) * (k_i+dk)/(k_p-dk) )\n",
    "    return b\n",
    "\n",
    "def s_heralding(focus_s, focus_i, focus_p):\n",
    "    a_s = A_s(focus_s, focus_i, focus_p)\n",
    "    b_s = B_s(focus_s, focus_i, focus_p)\n",
    "    a_plus = A_plus(focus_s, focus_i, focus_p)\n",
    "    b_plus = B_plus(focus_s, focus_i, focus_p)\n",
    "    focus = focus_agg(focus_s, focus_i, focus_p)\n",
    "    s = np.arctan(focus) * a_s * b_s / (a_plus*b_plus * np.arctan(b_s*focus_s/a_s))\n",
    "    return s"
   ]
  },
  {
   "cell_type": "markdown",
   "id": "850d251e",
   "metadata": {},
   "source": [
    "Use these results to calculate the signal heralding efficiency when the waist of all three photons is located at the center of the crystal and $100 \\mu\\textrm{m}$ in length. Compare this to spdcalc's signal heralding efficiency of 0.8896055595101362 for these values, with signal and idler waists not at the center of the crystal. "
   ]
  },
  {
   "cell_type": "code",
   "execution_count": 5,
   "id": "fe1f5804",
   "metadata": {},
   "outputs": [
    {
     "name": "stdout",
     "output_type": "stream",
     "text": [
      "0.8606629658238706\n"
     ]
    }
   ],
   "source": [
    "print(s_heralding(focus_s, focus_i, focus_p))"
   ]
  },
  {
   "cell_type": "markdown",
   "id": "83953b62",
   "metadata": {},
   "source": [
    "Then calculate the heralding efficiency when the pump waist is kept constant at $100 \\mu\\textrm{m}$ while the signal and idler waist is allowed to vary from 1 to 130 $\\mu\\textrm{m}$, and plot the results. These can be compared to  <a href=\"http://wellcaffeinated.net/spdcalc-ui/#/?cfg=eyJhdXRvQ2FsY1RoZXRhIjp0cnVlLMkVUGVyaW9kaWNQb2xpbmfQHkludGVncmF0aW9uTGltaXRzyCFzcGRDb25maWciOnsiY3J5c3RhbCI6IktEUF8xIiwicG1fdHlwZSI6IlR5cGUxX2Vfb28iLMgpX3TmAIo5MMoTcGhpIjrLEGxlbmd0aCI6MjAwyxZ0ZW1wZXJhdHVyZcQbLCJmaWJlcl9jb3Vw7AC%2FcHVtcF93YXZlyEY3NzXHFmJhbmR3aWTEFTUuM8gWd2Fpc3QiOjHEbMURc3BlY3RydW1fdGhyZXNob2xkIjowLjEsInNpZ25hbM1dMTU1MMkZ5wDbyhHoANnHD%2BsAgMxOyn%2FME19wb3Np5AF9IjotNjc2LjUyMzcyNTk4NzcyODEsImlkbGVy8wCLxhjqAIrGEOUAiTE4yRDuAIrITOoAicsS%2FwCIcOcCRF9w5QJFX2VuYWJsZWTpAY7GFsYmIjo1My43NTA1NzQ0MjU4OTM4OCwiYXBvZGl65QJnyj1mYWxz5AKLyxxmd2htIjoxNjAwfSwiaeoCnOoCi2xzX21pbiI6MTQ4MS41MzA3ODA3OTIyM%2BQAp8QcYXjEQDE4LjQ2OTIxOTIwNzc2MiwibGnJNzcuMDg4ODE4ODAwMjIxxDdpyDcyNS4xMDQ1MDU0NjMzMjE25AGtemXlAS99fQ%3D%3D&panels=W3sidHlwZSI6ImhlcmFsZGluZy1jYWxjIiwic2V0dGluZ3MiOnt9fSzTKHYtd3POKCJjb21iaW5lZEpTSUxvZ1NjYWxlIjpmYWxzZSwieGF4acUlbWluIjoiYXV0byIsIm1heCI6MTMwLCJzdGVwcyI6MTB9LCJqc2lSZXNvbHV0aW9uIjrEH8QwVXBkYXRlIjp0cnVl7ACUUGFuZWxMb2FkZXL6ALnbJV0%3D\" target=\"_blank\">spdcalc's results.</a>"
   ]
  },
  {
   "cell_type": "code",
   "execution_count": 7,
   "id": "8ff609d4",
   "metadata": {},
   "outputs": [
    {
     "data": {
      "image/png": "[encoded data removed]",
      "text/plain": [
       "<Figure size 432x288 with 1 Axes>"
      ]
     },
     "metadata": {
      "needs_background": "light"
     },
     "output_type": "display_data"
    }
   ],
   "source": [
    "heralding_eff = s_heralding(focus, focus, focus_p)\n",
    "\n",
    "plt.plot(waist*10**6, heralding_eff)\n",
    "plt.xlabel(\"Signal and idler waist (microns)\")\n",
    "plt.ylabel(\"Heralding efficiency\")\n",
    "plt.show()"
   ]
  }
 ],
 "metadata": {
  "kernelspec": {
   "display_name": "Python 3",
   "language": "python",
   "name": "python3"
  },
  "language_info": {
   "codemirror_mode": {
    "name": "ipython",
    "version": 3
   },
   "file_extension": ".py",
   "mimetype": "text/x-python",
   "name": "python",
   "nbconvert_exporter": "python",
   "pygments_lexer": "ipython3",
   "version": "3.8.8"
  }
 },
 "nbformat": 4,
 "nbformat_minor": 5
}
