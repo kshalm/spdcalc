{
 "cells": [
  {
   "cell_type": "code",
   "execution_count": 3,
   "id": "63d4612d",
   "metadata": {},
   "outputs": [],
   "source": [
    "import matplotlib.pyplot as plt\n",
    "import numpy as np\n",
    "import math\n",
    "from scipy.optimize import minimize"
   ]
  },
  {
   "cell_type": "markdown",
   "id": "f1d92efd",
   "metadata": {},
   "source": [
    "Here, we compare the results of calculated heralding efficiency from spdcalc and the methods used in Ryan Bennink's paper. These calculations are based on a parameter related to focusing for each of the photons,\n",
    "\n",
    "$$ \\xi_j = \\frac{L}{k_jw_j^2}, $$\n",
    "\n",
    "where $w_j$ is the waist size for a given photon. \n",
    "\n",
    "We calculate heralding efficiency by considering\n",
    "\n",
    "$$ P_{si} \\approx \\frac{64\\pi^3\\hbar c \\epsilon n_s n_i}{\\epsilon_0 n_p |n_s'-n_i'|} \\left( \\frac{\\chi^{(2)}_{\\textrm{eff}}}{\\lambda_s\\lambda_i}  \\right)^2\\frac{\\arctan(\\xi)}{A_+B_+} N_p $$\n",
    "\n",
    "and \n",
    "\n",
    "$$ P_{s} \\approx \\frac{64\\pi^3\\hbar c \\epsilon n_s n_i}{\\epsilon_0 n_p |n_s'-n_i'|} \\left( \\frac{\\chi^{(2)}_{\\textrm{eff}}}{\\lambda_s\\lambda_i}  \\right)^2\\frac{\\arctan(\\xi_s B_s/A_s)}{A_sB_s} N_p, $$\n",
    "\n",
    "so that the heralding efficiency $\\eta_i = P_{si}/P_s$ is\n",
    "\n",
    "$$ \\frac{\\arctan(\\xi)}{A_+B_+} \\frac{A_s B_s}{\\arctan(\\frac{B_s}{A_s}\\xi_s)} $$.\n",
    "\n",
    "We begin by calculating the focusing parameter and the momentum of each photon, assuming that $\\lambda_s=\\lambda_i = 1550$ nm and that $\\lambda_p = 775$ nm. "
   ]
  },
  {
   "cell_type": "code",
   "execution_count": 4,
   "id": "c1ff228c",
   "metadata": {},
   "outputs": [],
   "source": [
    "lambda_p = 775e-9\n",
    "lambda_s = 1550e-9\n",
    "lambda_i = 1550e-9\n",
    "\n",
    "theta = np.radians(90)\n",
    "\n",
    "L = 2000e-6\n",
    "\n",
    "KDP_o = [2.259276,13.005522,400,0.01008956,0.012942625]\n",
    "KDP_e = [2.132668,3.2279924,400,0.008637494,0.012281043]\n",
    "\n",
    "def axisIndex(wavelength, sellmeier):\n",
    "    wavelength = wavelength*10**6\n",
    "    n_1 = sellmeier[0]\n",
    "    n_2 = sellmeier[1]*(wavelength**2)/((wavelength**2)-sellmeier[2])\n",
    "    n_3 = sellmeier[3]/((wavelength**2)-sellmeier[4])\n",
    "    return np.sqrt(n_1+n_2+n_3)\n",
    "\n",
    "def refIndex(theta, phi, wavelength, fast):\n",
    "    theta = np.radians(theta)\n",
    "    s_x=np.sin(theta)*np.cos(phi)\n",
    "    s_y=np.sin(theta)*np.sin(phi)\n",
    "    s_z=np.cos(theta)\n",
    "    n_x = n_y = axisIndex(wavelength,KDP_o)\n",
    "    n_z = axisIndex(wavelength,KDP_e)\n",
    "        \n",
    "    b = (s_x**2)*((n_y**-2)+(n_z**-2))+(s_y**2)*((n_x**-2)+(n_z**-2))+(s_z**2)*((n_x**-2)+(n_y**-2))\n",
    "    c = (s_x**2)*(n_y**-2)*(n_z**-2)+(s_y**2)*(n_x**-2)*(n_z**-2)+(s_z**2)*(n_x**-2)*(n_y**-2)\n",
    "    if fast == True:\n",
    "        x = (b+np.sqrt((b**2)-4*c))/2\n",
    "    else:\n",
    "        x = (b-np.sqrt((b**2)-4*c))/2\n",
    "    return np.sqrt(1/x)\n",
    "\n",
    "n_i = refIndex(theta, 0, lambda_i, False)\n",
    "n_s = refIndex(theta, 0, lambda_s, True)\n",
    "n_p = refIndex(theta, 0, lambda_p, True)\n",
    "\n",
    "waist_s = 100e-6\n",
    "waist_i = 100e-6\n",
    "waist_p = 100e-6\n",
    "waist = np.linspace(1e-6, 130e-6, 130)\n",
    "\n",
    "k_p = 2*math.pi*n_p/lambda_p\n",
    "k_s = 2*math.pi*n_i/lambda_s\n",
    "k_i = 2*math.pi*n_s/lambda_i\n",
    "\n",
    "dk = k_p-k_s-k_i\n",
    "\n",
    "focus_s = L/(k_s*waist_s**2)\n",
    "focus_i = L/(k_i*waist_i**2)\n",
    "focus_p = L/(k_p*waist_p**2)\n",
    "\n",
    "s_focus = L/(k_s*waist**2)\n",
    "i_focus = L/(k_i*waist**2)"
   ]
  },
  {
   "cell_type": "markdown",
   "id": "4d8e2e03",
   "metadata": {},
   "source": [
    "Next, construct a series of functions to calculate the parameters $A_+,\\ B_+,\\ A_s,\\ B_s,\\ \\xi$ so that their results can be used as parameters in the heralding calculation function. We calculate these according to the following equations.\n",
    "\n",
    "$$ A_+ = 1 + \\frac{k_s}{k_p}\\frac{\\xi_s}{\\xi_p} + \\frac{k_i}{k_p} \\frac{\\xi_i}{\\xi_p} $$"
   ]
  },
  {
   "cell_type": "markdown",
   "id": "d606e256",
   "metadata": {},
   "source": [
    "$$ B_+ = \\left(1-\\frac{\\Delta k }{k_p}\\right) \\left(1 + \\frac{k_s+\\Delta k}{k_p-\\Delta k} \\frac{\\xi_p}{\\xi_s} + \\frac{k_i+\\Delta k}{k_p-\\Delta k} \\frac{\\xi_p}{\\xi_i} \\right) $$"
   ]
  },
  {
   "cell_type": "markdown",
   "id": "e5c4f592",
   "metadata": {},
   "source": [
    "$$ \\xi = \\frac{B_+}{A_+}\\frac{\\xi_s\\xi_i}{\\xi_p} $$"
   ]
  },
  {
   "cell_type": "markdown",
   "id": "48834900",
   "metadata": {},
   "source": [
    "$$ A_s = 2\\sqrt{\\left(1 + \\frac{k_s}{k_p}\\frac{\\xi_s}{\\xi_p}\\right)\\frac{k_i}{k_p}} $$"
   ]
  },
  {
   "cell_type": "markdown",
   "id": "30f90932",
   "metadata": {},
   "source": [
    "$$ B_s = 2\\left(1 - \\frac{k_s+ \\Delta k}{k_p - \\Delta k}\\right) \\sqrt{\\left(1 + \\frac{k_s+\\Delta k}{k_p - \\Delta k} \\frac{\\xi_p}{\\xi_s}\\right)\\frac{k_i+\\Delta k}{k_p - \\Delta k}} $$"
   ]
  },
  {
   "cell_type": "code",
   "execution_count": 20,
   "id": "b6baa357",
   "metadata": {},
   "outputs": [],
   "source": [
    "def A_plus(focus_s, focus_i, focus_p):\n",
    "    a = 1 + (k_s*focus_s)/(k_p*focus_p) + (k_i*focus_i)/(k_p*focus_p)\n",
    "    return a\n",
    "\n",
    "def B_plus(focus_s, focus_i, focus_p):\n",
    "    b = (1-dk/k_p)*(1+focus_p*(k_s+dk)/((k_p-dk)*focus_s)+focus_p*(k_i+dk)/((k_p-dk)*focus_i))\n",
    "    return b\n",
    "\n",
    "def focus_agg(focus_s, focus_i, focus_p):\n",
    "    z = B_plus(focus_s, focus_i, focus_p)*focus_s*focus_i/(A_plus(focus_s,focus_i,focus_p)*focus_p)\n",
    "    return z\n",
    "\n",
    "def A_s(focus_s, focus_i, focus_p):\n",
    "    a = 2 * np.sqrt( (1 + k_s*focus_s / (k_p*focus_p) ) *k_i/k_p )\n",
    "    return a\n",
    "\n",
    "def B_s(focus_s, focus_i, focus_p):\n",
    "    b = 2 * (1-dk/k_p) * np.sqrt( ( 1 + (k_s+dk)*focus_p / ( (k_p-dk)*focus_s) ) * (k_i+dk)/(k_p-dk) )\n",
    "    return b\n",
    "\n",
    "def i_heralding(focus_s, focus_i, focus_p):\n",
    "    a_s = A_s(focus_s, focus_i, focus_p)\n",
    "    b_s = B_s(focus_s, focus_i, focus_p)\n",
    "    a_plus = A_plus(focus_s, focus_i, focus_p)\n",
    "    b_plus = B_plus(focus_s, focus_i, focus_p)\n",
    "    focus = focus_agg(focus_s, focus_i, focus_p)\n",
    "    i = np.arctan(focus) * a_s * b_s / (a_plus*b_plus * np.arctan(b_s*focus_s/a_s))\n",
    "    return i"
   ]
  },
  {
   "cell_type": "markdown",
   "id": "850d251e",
   "metadata": {},
   "source": [
    "Use these results to calculate the signal heralding efficiency when the waist of all three photons is located at the center of the crystal and $100 \\mu\\textrm{m}$ in length. Compare this to spdcalc's idler heralding efficiency of 0.8887664272477852 for these values, with signal and idler waists not at the center of the crystal. "
   ]
  },
  {
   "cell_type": "code",
   "execution_count": 21,
   "id": "fe1f5804",
   "metadata": {},
   "outputs": [
    {
     "name": "stdout",
     "output_type": "stream",
     "text": [
      "0.8911445394869222\n"
     ]
    }
   ],
   "source": [
    "print(i_heralding(focus_s, focus_i, focus_p))"
   ]
  },
  {
   "cell_type": "markdown",
   "id": "83953b62",
   "metadata": {},
   "source": [
    "Then calculate the heralding efficiency when the pump waist is kept constant at $100 \\mu\\textrm{m}$ while the signal and idler waist is allowed to vary from 1 to 130 $\\mu\\textrm{m}$, and plot the results. These can be compared to  <a href=\"http://wellcaffeinated.net/spdcalc-ui/#/?cfg=eyJhdXRvQ2FsY1RoZXRhIjp0cnVlLMkVUGVyaW9kaWNQb2xpbmfQHkludGVncmF0aW9uTGltaXRzyCFzcGRDb25maWciOnsiY3J5c3RhbCI6IktEUF8xIiwicG1fdHlwZSI6IlR5cGUyX2VfZW8iLMgpX3TmAIo5MMoTcGhpIjrLEGxlbmd0aCI6MjAwyxZ0ZW1wZXJhdHVyZcQbLCJmaWJlcl9jb3Vw7AC%2FcHVtcF93YXZlyEY3NzXHFmJhbmR3aWTEFTUuM8gWd2Fpc3QiOjHEbMURc3BlY3RydW1fdGhyZXNob2xkIjowLjEsInNpZ25hbM1dMTU1MMkZ5wDbyhHoANnHD%2BsAgMxOyn%2FME19wb3Np5AF9IjotNjg3LjMyNTU4MDQ3NjIyMzgsImlkbGVy8wCLxhjqAIrGEOUAiTE4yRDuAIrITOoAicsS7QCINzYuNTIzNzI1OTg3NzI4MSwicOcCRF9w5QJFX2VuYWJsZWTpAY7GFsYmIjoyNzYuNDU0NDYyODMxNTIxMSwiYXBvZGl65QJnyj1mYWxz5AKLyxxmd2htIjoxNjAwfSwiaeoCnOoCi2xzX21pbiI6MTQ0NC42ODI0Njg0MTQzMDc2LMUcYXjEQDU1LjMxNzUzMTU4NTY5MjcsImxpyDg1Ny4yODIyMjAyNzgwNzQ0xhzGODcxLjg4MDI4MDMyNDc1ODTkAa56ZeUBMH19&panels=W3sidHlwZSI6ImhlcmFsZGluZy1jYWxjIiwic2V0dGluZ3MiOnt9fSzTKHYtd3POKCJjb21iaW5lZEpTSUxvZ1NjYWxlIjpmYWxzZSwieGF4acUlbWluIjoiYXV0byIsIm1heCI6MTMwLCJzdGVwcyI6MTB9LCJqc2lSZXNvbHV0aW9uIjrEH8QwVXBkYXRlIjp0cnVl7ACUUGFuZWxMb2FkZXL6ALnbJV0%3D\" target=\"_blank\">spdcalc's results.</a>"
   ]
  },
  {
   "cell_type": "code",
   "execution_count": 22,
   "id": "8ff609d4",
   "metadata": {},
   "outputs": [
    {
     "data": {
      "image/png": "[encoded data removed]",
      "text/plain": [
       "<Figure size 432x288 with 1 Axes>"
      ]
     },
     "metadata": {
      "needs_background": "light"
     },
     "output_type": "display_data"
    }
   ],
   "source": [
    "heralding_eff = i_heralding(s_focus, i_focus, focus_p)\n",
    "\n",
    "plt.plot(waist*10**6, heralding_eff)\n",
    "plt.xlabel(\"Signal and idler waist (microns)\")\n",
    "plt.ylabel(\"Heralding efficiency\")\n",
    "plt.show()"
   ]
  },
  {
   "cell_type": "markdown",
   "id": "9d13678a",
   "metadata": {},
   "source": [
    "Next, consider a case where $k_s\\approx k_i \\approx k_p/2$ in order to calculate\n",
    "\n",
    "$$ P_{s} \\approx \\frac{64\\pi^3\\hbar c \\epsilon n_s n_i}{\\epsilon_0 n_p |n_s'-n_i'|} \\left( \\frac{\\chi^{(2)}_{\\textrm{eff}}}{\\lambda_s\\lambda_i}  \\right)^2\\frac{\\arctan(\\xi_s B_s/A_s)}{A_sB_s} N_p.$$\n",
    "\n",
    "Note that here $k_j = 2\\pi n_j/\\lambda_j$, which means that we can replace $n_j$ with $\\lambda_k k_j/2\\pi$ and rewrite this expression as\n",
    "\n",
    "$$ P_{s} \\approx \\frac{32\\pi^2\\hbar c \\epsilon k_s k_i}{\\epsilon_0 k_p |n_s'-n_i'|} \\frac{(\\chi^{(2)}_{\\textrm{eff}})^2}{\\lambda_s\\lambda_i\\lambda_p}  \\frac{\\arctan(\\xi_s B_s/A_s)}{A_sB_s} N_p.$$\n",
    "\n",
    "Note that other than\n",
    "\n",
    "$$ \\frac{\\arctan(\\frac{B_s}{A_s}\\xi_s)}{A_sB_s}, $$\n",
    "\n",
    "all of these quantities are constants. Therefore, in order to plot this probability, we need only plot a normalized version of this equation to replicate figure 7 of Bennink's paper."
   ]
  },
  {
   "cell_type": "code",
   "execution_count": 23,
   "id": "a0fa0e2f",
   "metadata": {},
   "outputs": [
    {
     "data": {
      "image/png": "[encoded data removed]",
      "text/plain": [
       "<Figure size 432x288 with 2 Axes>"
      ]
     },
     "metadata": {
      "needs_background": "light"
     },
     "output_type": "display_data"
    }
   ],
   "source": [
    "k_p = 2*math.pi/lambda_p\n",
    "k_s = 2*math.pi/lambda_s\n",
    "k_i = 2*math.pi/lambda_i\n",
    "dk = 0\n",
    "\n",
    "i_focus = p_focus = np.logspace(-1,2,num = 100, endpoint = True)\n",
    "\n",
    "x_mesh,y_mesh = np.meshgrid(i_focus, p_focus)\n",
    "\n",
    "def signal_prob(focus_s, focus_i, focus_p):\n",
    "    a_s = A_s(focus_s, focus_i, focus_p)\n",
    "    b_s = B_s(focus_s, focus_i, focus_p)\n",
    "    p = np.arctan(focus_s*b_s/a_s)/(a_s*b_s)\n",
    "    return p\n",
    "\n",
    "def norm(array):\n",
    "    prob_max = np.amax(array)\n",
    "    return array/prob_max\n",
    "\n",
    "p_s = norm(signal_prob(x_mesh, x_mesh, y_mesh))\n",
    "\n",
    "plt.pcolormesh(np.log10(y_mesh), np.log10(x_mesh), p_s, shading = 'nearest')\n",
    "cb = plt.colorbar()\n",
    "plt.xlabel(r'log$_{10}(\\xi_p$)')\n",
    "plt.ylabel(r'log$_{10}(\\xi_s)$')\n",
    "plt.show()"
   ]
  },
  {
   "cell_type": "markdown",
   "id": "74db7301",
   "metadata": {},
   "source": [
    "Next, for cases where $k_s\\approx k_i \\approx k_p/2$ we can optimize focusing parameters. We calculate $P_i$ in the same way that we calculate $P_s$, but with the indices switched. Since all other coefficients are constants, we set\n",
    "\n",
    "$$ P_{si} = \\frac{\\arctan(\\xi)}{A_+ B_+},$$\n",
    "\n",
    "and we calculate the symmetric heralding using \n",
    "\n",
    "$$ \\eta_{si} = \\frac{P_{si}}{\\sqrt{P_s P_i}}.$$\n",
    "\n",
    "We can normalize the new probabilities in the same manner as we normalized $P_s$ above."
   ]
  },
  {
   "cell_type": "code",
   "execution_count": 24,
   "id": "151c641b",
   "metadata": {},
   "outputs": [],
   "source": [
    "def A_i(focus_s, focus_i, focus_p):\n",
    "    a = A_s(focus_i, focus_s, focus_p)\n",
    "    return a\n",
    "\n",
    "def B_i(focus_s, focus_i, focus_p):\n",
    "    b = B_s(focus_i, focus_s, focus_p)\n",
    "    return b\n",
    "\n",
    "def idler_prob(focus_s, focus_i, focus_p):\n",
    "    a_i = A_i(focus_s, focus_i, focus_p)\n",
    "    b_i = B_i(focus_s, focus_i, focus_p)\n",
    "    p = np.arctan(focus_i*b_i/a_i)/(a_i*b_i)\n",
    "    return p\n",
    "\n",
    "def pair_prob(focus_s, focus_i, focus_p):\n",
    "    a_plus = A_plus(focus_s, focus_i, focus_p)\n",
    "    b_plus = B_plus(focus_s, focus_i, focus_p)\n",
    "    focus = focus_agg(focus_s, focus_i, focus_p)\n",
    "    p = np.arctan(focus)/(a_plus*b_plus)\n",
    "    return p\n",
    "\n",
    "def symmetric_heralding(focus_s, focus_i, focus_p):\n",
    "    p_s = signal_prob(focus_s, focus_i, focus_p)\n",
    "    p_i = idler_prob(focus_s, focus_i, focus_p)\n",
    "    p_si = pair_prob(focus_s, focus_i, focus_p)\n",
    "    return p_si/np.sqrt(p_s*p_i)"
   ]
  },
  {
   "cell_type": "markdown",
   "id": "69865e13",
   "metadata": {},
   "source": [
    "Next, we use scipy to optimize the symmetric heralding for values of $\\xi_p$ ranging from 0.01 to 100."
   ]
  },
  {
   "cell_type": "code",
   "execution_count": 25,
   "id": "f364a86f",
   "metadata": {},
   "outputs": [
    {
     "data": {
      "image/png": "[encoded data removed]",
      "text/plain": [
       "<Figure size 432x288 with 1 Axes>"
      ]
     },
     "metadata": {
      "needs_background": "light"
     },
     "output_type": "display_data"
    }
   ],
   "source": [
    "p_focus = np.logspace(-2,2,num = 130, endpoint = True)\n",
    "\n",
    "x = 0.01\n",
    "\n",
    "def p_fixed_symm(focus):\n",
    "    focus_s, focus_i = focus\n",
    "    return (-1)*symmetric_heralding(focus_s, focus_i, x)\n",
    "\n",
    "signal = []\n",
    "idler = []\n",
    "\n",
    "for i in p_focus:\n",
    "    x = i\n",
    "    bnds = ((0.01*x, 100*x),(0.01*x, 100*x))\n",
    "    opt = minimize(p_fixed_symm, (1e-10,1e-10), bounds = bnds)\n",
    "    signal.append(opt['x'][0])\n",
    "    idler.append(opt['x'][1])\n",
    "    \n",
    "plt.plot(np.log10(p_focus), np.log10(signal))\n",
    "plt.plot(np.log10(p_focus), np.log10(idler))\n",
    "plt.xlim([-2,2])\n",
    "plt.ylim([-2,2])\n",
    "plt.ylabel(r'log$_{10}(\\xi_s)$, log$_{10}(\\xi_i)$')\n",
    "plt.xlabel(r'log$_{10}(\\xi_p)$')\n",
    "plt.show()"
   ]
  },
  {
   "cell_type": "markdown",
   "id": "a3e01e35",
   "metadata": {},
   "source": [
    "Compare this plot to figure 8b of Bennink's paper. Next, we use these optimized values of $\\xi_s$ and $\\xi_i$ to plot the pair collection probability and the symmetric heralding efficiency, as shown in figure 8a of Bennink's paper. "
   ]
  },
  {
   "cell_type": "code",
   "execution_count": 26,
   "id": "8b1b7eee",
   "metadata": {},
   "outputs": [
    {
     "data": {
      "image/png": "[encoded data removed]",
      "text/plain": [
       "<Figure size 432x288 with 2 Axes>"
      ]
     },
     "metadata": {
      "needs_background": "light"
     },
     "output_type": "display_data"
    }
   ],
   "source": [
    "s_focus = np.array(signal)\n",
    "i_focus = np.array(idler)\n",
    "\n",
    "p_si = norm(pair_prob(s_focus, i_focus, p_focus))\n",
    "symm_heralding = symmetric_heralding(s_focus, i_focus, p_focus)\n",
    "\n",
    "# fig 8a\n",
    "fig, ax1 = plt.subplots()\n",
    "color = 'tab:red'\n",
    "ax1.set_xlabel(r'log$_{10}(\\xi_p$)')\n",
    "ax1.set_xlim([-2,2])\n",
    "ax1.set_ylim([0,1])\n",
    "ax1.set_ylabel(r'$P_{si}$', color=color)\n",
    "ax1.plot(np.log10(p_focus), p_si, color=color)\n",
    "\n",
    "ax2 = ax1.twinx()\n",
    "color = 'tab:blue'\n",
    "ax2.set_ylabel(r'$\\eta_{si}$', color=color)\n",
    "ax2.set_ylim([0.5,1])\n",
    "ax2.plot(np.log10(p_focus), symm_heralding, color=color)\n",
    "\n",
    "fig.tight_layout()\n",
    "plt.show()"
   ]
  },
  {
   "cell_type": "code",
   "execution_count": null,
   "id": "52afe24a",
   "metadata": {},
   "outputs": [],
   "source": []
  }
 ],
 "metadata": {
  "kernelspec": {
   "display_name": "Python 3",
   "language": "python",
   "name": "python3"
  },
  "language_info": {
   "codemirror_mode": {
    "name": "ipython",
    "version": 3
   },
   "file_extension": ".py",
   "mimetype": "text/x-python",
   "name": "python",
   "nbconvert_exporter": "python",
   "pygments_lexer": "ipython3",
   "version": "3.8.8"
  }
 },
 "nbformat": 4,
 "nbformat_minor": 5
}
