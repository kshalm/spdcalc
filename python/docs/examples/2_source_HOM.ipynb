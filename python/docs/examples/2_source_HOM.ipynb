{
 "cells": [
  {
   "cell_type": "code",
   "execution_count": 2,
   "id": "b671fefc",
   "metadata": {},
   "outputs": [],
   "source": [
    "import spdcalc as spdc\n",
    "import numpy as np\n",
    "from math import pi\n",
    "import matplotlib.pyplot as plt\n",
    "from numba import jit\n",
    "import warnings\n",
    "warnings.filterwarnings('ignore')"
   ]
  },
  {
   "cell_type": "markdown",
   "id": "d52bab8f",
   "metadata": {},
   "source": [
    "When calculating the two-source Hong-Ou-Mandel graph, we consider four photons from two identical crystals, i.e. two signal photons and two idler photons. The relevant integral to compute is\n",
    "\n",
    "$$ \\int\\limits_{\\omega_s} \\int\\limits_{\\omega_i} \\int\\limits_{\\omega_s'} \\int\\limits_{\\omega_i'} \\psi(\\omega_s, \\omega_i, \\omega_s',\\ \\omega_i') - e^{i\\phi}\\psi(\\omega_s', \\omega_i, \\omega_s,\\ \\omega_i')\\ d\\omega_i'\\ d\\omega_s'\\ d\\omega_i\\ d\\omega_s. $$ \n",
    "\n",
    "The wave function $\\psi$ is equivalent to the joint spectral amplitude (JSA) for all four photons. Since the photons come from two separate sources, this joint amplitude is seprarble into two parts, so that \n",
    "\n",
    "$$ \\psi(\\omega_s, \\omega_i, \\omega_s',\\ \\omega_i') = \\textrm{JSA}_1(\\omega_s, \\omega_i)\\otimes \\textrm{JSA}_2(\\omega_s', \\omega_i'). $$ \n",
    "\n",
    "Since the two sources are identical, we conclude that $\\textrm{JSA}_1=\\textrm{JSA}_2$. So we only need to compute the JSA once and then simply reference different indices for the different signal and idler photons. Using this notation, the integrand becomes\n",
    "\n",
    "$$ \\textrm{JSA}(\\omega_s, \\omega_i)\\otimes \\textrm{JSA}(\\omega_s', \\omega_i') - e^{i\\phi}\\textrm{JSA}(\\omega_s', \\omega_i)\\otimes \\textrm{JSA}(\\omega_s, \\omega_i'). $$ \n",
    "\n",
    "To compute the JSA matrix, we iterate over two for loops to construct a two-dimensional array of values."
   ]
  },
  {
   "cell_type": "code",
   "execution_count": 3,
   "id": "5dd807d3",
   "metadata": {},
   "outputs": [],
   "source": [
    "lambda_s = lambda_i = 1550e-9\n",
    "lambda_p = 775e-9\n",
    "theta = np.radians(51.765)\n",
    "dt = 1e-15\n",
    "c = 3e8\n",
    "\n",
    "setup = spdc.SPDCSetup.from_dict({\n",
    "    \"crystal\": \"KDP_1\",\n",
    "    \"signal_wavelength\": 1550e-9,\n",
    "    \"crystal_theta\": np.radians(90), \"pm_type\": \"Type2_e_eo\",\n",
    "    \"pump_wavelength\": 775e-9\n",
    "}, with_defaults=True)\n",
    "setup.assign_optimum_periodic_poling()\n",
    "\n",
    "dim = 20\n",
    "ranges = spdc.plotting.calc_plot_config_for_jsi(setup, dim)\n",
    "x=ranges.get_x_values()\n",
    "y=ranges.get_y_values()\n",
    "\n",
    "signal = np.array(x)\n",
    "idler = np.array(y)\n",
    "\n",
    "JSA = np.zeros((dim, dim), dtype = np.csingle)\n",
    "\n",
    "for i in range(dim):\n",
    "    for j in range(dim):\n",
    "        JSA[i][j] = spdc.jsa.calc_jsa(setup, signal[i], idler[j])"
   ]
  },
  {
   "cell_type": "markdown",
   "id": "c3a6c93d",
   "metadata": {},
   "source": [
    "Performing this calculation in Python, we can simply iterate over many sums rather than explicitly calculating this integral. The variable $phi$ depends on time and wavelength difference between two photons of interest. For signal-signal interference, $\\phi_{ss} = 2\\pi\\Delta t(\\frac{1}{\\lambda_s}-\\frac{1}{\\lambda_i})$. For idler-idler interference, $\\phi_{ii} = 2\\pi\\Delta t(\\frac{1}{\\lambda_s'}-\\frac{1}{\\lambda_i'})$. For signal-idler interference, $\\phi_{si}=2\\pi\\Delta t(\\frac{1}{\\lambda_s}-\\frac{1}{\\lambda_i'})$.\n",
    "\n",
    "In the code, we let A, B, C, D stand for the different JSA configurations, between $\\omega_s$ and $\\omega_i$, $\\omega_s'$ and $\\omega_i'$, $\\omega_s'$ and $\\omega_i$, and $\\omega_s$ and $\\omega_i'$ respectively. "
   ]
  },
  {
   "cell_type": "code",
   "execution_count": 4,
   "id": "31f483a7",
   "metadata": {},
   "outputs": [],
   "source": [
    "@jit\n",
    "def two_source_HOM(signal, idler, dt, JSA):\n",
    "    rate_ss = 0\n",
    "    rate_ii = 0\n",
    "    rate_si = 0\n",
    "    \n",
    "    im = 1j\n",
    "    \n",
    "    const = 2*pi*c*dt\n",
    "    for j in range(len(signal)): # signal 1\n",
    "        s_j_inv = 1/signal[j]\n",
    "        \n",
    "        for k in range(len(idler)): # idler 1\n",
    "            A = JSA[j][k]\n",
    "            \n",
    "            s_k_inv = 1/signal[k]\n",
    "            for l in range(len(signal)): # signal 2\n",
    "                C = JSA[l][k]\n",
    "                \n",
    "                i_l_inv = 1/idler[l]\n",
    "                ARG_ss = const*(s_j_inv - i_l_inv)\n",
    "                phase_ss = np.exp(im*ARG_ss)\n",
    "                for m in range(len(idler)): # idler 2\n",
    "                    i_m_inv = 1/idler[m]\n",
    "                    \n",
    "                    ARG_ii = const*(s_k_inv - i_m_inv)\n",
    "                    phase_ii = np.exp(im*ARG_ii)\n",
    "                    \n",
    "                    ARG_si = const*(s_j_inv - i_m_inv)\n",
    "                    phase_si = np.exp(im*ARG_si)\n",
    "                    \n",
    "                    B = JSA[l][m]\n",
    "                    D = JSA[j][m]\n",
    "                    \n",
    "                    arg1 = A*B\n",
    "                    arg2 = C*D\n",
    "                    \n",
    "                    intf_ss = (arg1 - phase_ss*arg2)*0.5\n",
    "                    intf_ii = (arg1 - phase_ii*arg2)*0.5\n",
    "                    intf_si = (arg1 - phase_si*arg2)*0.5\n",
    "                    \n",
    "                    rate_ss += np.absolute(intf_ss)**2\n",
    "                    rate_ii += np.absolute(intf_ii)**2\n",
    "                    rate_si += np.absolute(intf_si)**2\n",
    "    return {'ss': rate_ss, 'ii': rate_ii, 'si': rate_si}"
   ]
  },
  {
   "cell_type": "markdown",
   "id": "df3daeec",
   "metadata": {},
   "source": [
    "Next, we construct a normalization value by calculating the two-source Hong-Ou-Mandel for an extremely long time delay of 1 million seconds. At this point, we can assume that the coincidence probability will be very close to 0.5."
   ]
  },
  {
   "cell_type": "code",
   "execution_count": 5,
   "id": "d8654018",
   "metadata": {},
   "outputs": [],
   "source": [
    "def two_source_HOM_norm(signal, idler, JSA):\n",
    "    rate = 0\n",
    "    for j in range(len(signal)):\n",
    "        \n",
    "        for k in range(len(idler)):\n",
    "            A = JSA[j][k]\n",
    "            \n",
    "            for l in range(len(signal)):\n",
    "                \n",
    "                for m in range(len(idler)):\n",
    "                    B = JSA[l][m]\n",
    "                    \n",
    "                    arg1 = A*B \n",
    "                    \n",
    "                    rate += np.absolute(arg1)**2\n",
    "    return rate"
   ]
  },
  {
   "cell_type": "markdown",
   "id": "31091195",
   "metadata": {},
   "source": [
    "The next step is to construct a function that executes two_source_HOM over a range of time values in order to plot it. "
   ]
  },
  {
   "cell_type": "code",
   "execution_count": 6,
   "id": "973d8109",
   "metadata": {},
   "outputs": [],
   "source": [
    "def two_source_HOM_range(signal, idler, times, JSA):\n",
    "    norm = two_source_HOM_norm(signal, idler, JSA)\n",
    "    rates = two_source_HOM(signal, idler, times, JSA)\n",
    "    rate_ss = np.array(rates['ss'])\n",
    "    rate_ii = np.array(rates['ii'])\n",
    "    rate_si = np.array(rates['si'])\n",
    "    rate_ss = rate_ss/norm\n",
    "    rate_ii = rate_ii/norm\n",
    "    rate_si = rate_si/norm\n",
    "    return {\"ss\": rate_ss, \"ii\": rate_ii, \"si\": rate_si}"
   ]
  },
  {
   "cell_type": "markdown",
   "id": "0021684d",
   "metadata": {},
   "source": [
    "With this function, we can plot the signal-signal and idler-idler coincidence probabilities against $\\Delta t$. "
   ]
  },
  {
   "cell_type": "code",
   "execution_count": 7,
   "id": "2d952ffe",
   "metadata": {},
   "outputs": [
    {
     "data": {
      "image/png": "[encoded data removed]",
      "text/plain": [
       "<Figure size 432x288 with 1 Axes>"
      ]
     },
     "metadata": {
      "needs_background": "light"
     },
     "output_type": "display_data"
    }
   ],
   "source": [
    "dimt = 100\n",
    "times = np.linspace(-300e-15, 300e-15, dimt)\n",
    "rates = two_source_HOM_range(signal, idler, times, JSA)\n",
    "ss = rates['ss']\n",
    "ii = rates['ii']\n",
    "\n",
    "plt.plot(times*1e15, ss)\n",
    "plt.plot(times*1e15, ii)\n",
    "plt.ylabel('Coincidence probability')\n",
    "plt.xlabel('Time delay (fs)')\n",
    "plt.ylim(0,1)\n",
    "plt.show()"
   ]
  }
 ],
 "metadata": {
  "kernelspec": {
   "display_name": "Python 3",
   "language": "python",
   "name": "python3"
  },
  "language_info": {
   "codemirror_mode": {
    "name": "ipython",
    "version": 3
   },
   "file_extension": ".py",
   "mimetype": "text/x-python",
   "name": "python",
   "nbconvert_exporter": "python",
   "pygments_lexer": "ipython3",
   "version": "3.8.8"
  }
 },
 "nbformat": 4,
 "nbformat_minor": 5
}
