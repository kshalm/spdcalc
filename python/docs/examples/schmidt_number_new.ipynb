{
 "cells": [
  {
   "cell_type": "code",
   "execution_count": 1,
   "id": "2e1c26c2",
   "metadata": {},
   "outputs": [],
   "source": [
    "import spdcalc as spdc\n",
    "import numpy as np\n",
    "import api_v2 as a2"
   ]
  },
  {
   "cell_type": "markdown",
   "id": "74f22a9f",
   "metadata": {},
   "source": [
    "Set up the downconversion with desired properties, initializing the photons and the crystal separately. "
   ]
  },
  {
   "cell_type": "code",
   "execution_count": 2,
   "id": "c09d66ad",
   "metadata": {},
   "outputs": [],
   "source": [
    "theta = 0\n",
    "phi_s = 0\n",
    "phi_i = np.pi\n",
    "lambda_s = lambda_i = 1550e-9\n",
    "lambda_p = 775e-9\n",
    "waist_spdc_x = 100e-6\n",
    "waist_spdc_y = 100e-6\n",
    "waist_spdc = (waist_spdc_x, waist_spdc_y)\n",
    "waist_pump = waist_spdc\n",
    "crystal = a2.Crystal(crystal_type = 'KDP_1', pm_type = 'Type1_e_oo', periodic_poling=False)\n",
    "signal = spdc.Photon.signal(phi_s, theta, lambda_s, waist_spdc)\n",
    "idler = spdc.Photon.idler(phi_i, theta, lambda_i, waist_spdc)\n",
    "pump = spdc.Photon.pump(lambda_p, waist_pump)\n",
    "\n",
    "dcObj = a2.Downconversion(signal, idler, pump, crystal)"
   ]
  },
  {
   "cell_type": "markdown",
   "id": "6094fcbf",
   "metadata": {},
   "source": [
    "Set the dimension and then assign optimum properties to the setup. Also generate the signal and idler wavelength arrays and use these to generate a JSA."
   ]
  },
  {
   "cell_type": "code",
   "execution_count": 3,
   "id": "d3170405",
   "metadata": {},
   "outputs": [],
   "source": [
    "dim = 200\n",
    "\n",
    "dcObj.rust_spdc.pump_bandwidth = 5.35e-9\n",
    "dcObj.assign_optimum_theta()\n",
    "\n",
    "signal_array = idler_array = np.linspace(1450e-9, 1650e-9, dim)\n",
    "JSA = a2.calc_jsa(dcObj, signal_array, idler_array)"
   ]
  },
  {
   "cell_type": "markdown",
   "id": "d75b8ae5",
   "metadata": {},
   "source": [
    "Next, use the numpy linear algebra library to calculate the singular value decomposition of the JSA matrix. This function returns a three-element tuple, the second of which is a one-dimensional array of Schmidt coefficients, $\\lambda_i$. To ensure proper normalization, we impose the condition that\n",
    "\n",
    "$$ \\sum\\limits_{i}^N \\lambda_i^2 = 1. $$"
   ]
  },
  {
   "cell_type": "code",
   "execution_count": 4,
   "id": "8fc5343e",
   "metadata": {},
   "outputs": [],
   "source": [
    "a = np.linalg.svd(JSA)[1]\n",
    "a_norm = a/np.linalg.norm(a)"
   ]
  },
  {
   "cell_type": "markdown",
   "id": "f408d629",
   "metadata": {},
   "source": [
    "Then we can calculate the single-photon purity, equal to \n",
    "\n",
    "$$ P = \\sum\\limits_{i}^N \\lambda_i^4 $$\n",
    "\n",
    "which can then be used to calculate the Schmidt number using \n",
    "\n",
    "$$ K = \\frac{1}{P}. $$"
   ]
  },
  {
   "cell_type": "code",
   "execution_count": 5,
   "id": "39472aa4",
   "metadata": {},
   "outputs": [
    {
     "name": "stdout",
     "output_type": "stream",
     "text": [
      "7.9316882277263945\n"
     ]
    }
   ],
   "source": [
    "purity = np.sum(a_norm**4)\n",
    "\n",
    "schmidt_num = 1/purity\n",
    "print(schmidt_num)"
   ]
  },
  {
   "cell_type": "code",
   "execution_count": null,
   "id": "9e80a3eb",
   "metadata": {},
   "outputs": [],
   "source": []
  }
 ],
 "metadata": {
  "kernelspec": {
   "display_name": "Python 3",
   "language": "python",
   "name": "python3"
  },
  "language_info": {
   "codemirror_mode": {
    "name": "ipython",
    "version": 3
   },
   "file_extension": ".py",
   "mimetype": "text/x-python",
   "name": "python",
   "nbconvert_exporter": "python",
   "pygments_lexer": "ipython3",
   "version": "3.8.8"
  }
 },
 "nbformat": 4,
 "nbformat_minor": 5
}
