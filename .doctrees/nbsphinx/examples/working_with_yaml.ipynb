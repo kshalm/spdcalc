{
 "cells": [
  {
   "cell_type": "markdown",
   "metadata": {},
   "source": [
    "# Working with YAML"
   ]
  },
  {
   "cell_type": "code",
   "execution_count": 1,
   "metadata": {},
   "outputs": [],
   "source": [
    "import yaml\n",
    "import os\n",
    "\n",
    "from spdcalc import *"
   ]
  },
  {
   "cell_type": "markdown",
   "metadata": {},
   "source": [
    "First let's just use the default properties..."
   ]
  },
  {
   "cell_type": "code",
   "execution_count": 3,
   "metadata": {},
   "outputs": [],
   "source": [
    "setup = SPDCSetup.default()\n",
    "# use periodic poling... the optimum\n",
    "setup.assign_optimum_periodic_poling()"
   ]
  },
  {
   "cell_type": "markdown",
   "metadata": {},
   "source": [
    "## Saving configuration to YAML\n",
    "\n",
    "The simplest way to save your configuration to a yaml file is to do this..."
   ]
  },
  {
   "cell_type": "code",
   "execution_count": 4,
   "metadata": {},
   "outputs": [],
   "source": [
    "yaml.dump(setup.to_dict(), open('./my_setup.yaml', 'w'))"
   ]
  },
  {
   "cell_type": "markdown",
   "metadata": {},
   "source": [
    "## Loading a configuration from YAML\n",
    "\n",
    "When you want to load your configuration, just do the following..."
   ]
  },
  {
   "cell_type": "code",
   "execution_count": 6,
   "metadata": {},
   "outputs": [
    {
     "name": "stdout",
     "output_type": "stream",
     "text": [
      "SPDCSetup {\n",
      "    signal: Photon {\n",
      "        waist: Matrix {\n",
      "            data: [\n",
      "                0.00009999999999999999,\n",
      "                0.00009999999999999999,\n",
      "            ],\n",
      "        } m,\n",
      "        wavelength: 0.0000015500000000000002 m,\n",
      "        photon_type: Signal,\n",
      "        theta: 0.0 rad,\n",
      "        phi: 0.0 rad,\n",
      "        direction: Unit {\n",
      "            value: Matrix {\n",
      "                data: [\n",
      "                    0.0,\n",
      "                    0.0,\n",
      "                    1.0,\n",
      "                ],\n",
      "            },\n",
      "        },\n",
      "    },\n",
      "    idler: Photon {\n",
      "        waist: Matrix {\n",
      "            data: [\n",
      "                0.00009999999999999999,\n",
      "                0.00009999999999999999,\n",
      "            ],\n",
      "        } m,\n",
      "        wavelength: 0.0000015500000000000002 m,\n",
      "        photon_type: Idler,\n",
      "        theta: 0.0 rad,\n",
      "        phi: 3.141592653589793 rad,\n",
      "        direction: Unit {\n",
      "            value: Matrix {\n",
      "                data: [\n",
      "                    -0.0,\n",
      "                    0.0,\n",
      "                    1.0,\n",
      "                ],\n",
      "            },\n",
      "        },\n",
      "    },\n",
      "    pump: Photon {\n",
      "        waist: Matrix {\n",
      "            data: [\n",
      "                0.00009999999999999999,\n",
      "                0.00009999999999999999,\n",
      "            ],\n",
      "        } m,\n",
      "        wavelength: 0.0000007750000000000001 m,\n",
      "        photon_type: Pump,\n",
      "        theta: 0.0 rad,\n",
      "        phi: 0.0 rad,\n",
      "        direction: Unit {\n",
      "            value: Matrix {\n",
      "                data: [\n",
      "                    0.0,\n",
      "                    0.0,\n",
      "                    1.0,\n",
      "                ],\n",
      "            },\n",
      "        },\n",
      "    },\n",
      "    crystal_setup: CrystalSetup {\n",
      "        crystal: BBO_1,\n",
      "        pm_type: Type2_e_eo,\n",
      "        phi: 0.0 rad,\n",
      "        theta: 1.5707963267948966 rad,\n",
      "        length: 0.002 m,\n",
      "        temperature: 293.15 K,\n",
      "    },\n",
      "    pp: Some(\n",
      "        PeriodicPoling {\n",
      "            period: 0.000017710703601182523 m,\n",
      "            sign: NEGATIVE,\n",
      "            apodization: None,\n",
      "        },\n",
      "    ),\n",
      "    fiber_coupling: true,\n",
      "    signal_fiber_theta_offset: 0.0 rad,\n",
      "    idler_fiber_theta_offset: 0.0 rad,\n",
      "    pump_bandwidth: 0.00000000535 m,\n",
      "    pump_average_power: 1.0 m^2*s^-3*g,\n",
      "    pump_spectrum_threshold: 0.000000001,\n",
      "    z0s: None,\n",
      "    z0i: None,\n",
      "}\n"
     ]
    }
   ],
   "source": [
    "new_setup = SPDCSetup.from_dict(yaml.load(open('./my_setup.yaml'), Loader=yaml.FullLoader))\n",
    "print(new_setup)"
   ]
  },
  {
   "cell_type": "code",
   "execution_count": null,
   "metadata": {},
   "outputs": [],
   "source": []
  }
 ],
 "metadata": {
  "kernelspec": {
   "display_name": "Python 3",
   "language": "python",
   "name": "python3"
  },
  "language_info": {
   "codemirror_mode": {
    "name": "ipython",
    "version": 3
   },
   "file_extension": ".py",
   "mimetype": "text/x-python",
   "name": "python",
   "nbconvert_exporter": "python",
   "pygments_lexer": "ipython3",
   "version": "3.7.5"
  }
 },
 "nbformat": 4,
 "nbformat_minor": 4
}
